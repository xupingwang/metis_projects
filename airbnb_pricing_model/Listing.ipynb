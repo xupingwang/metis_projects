{
 "cells": [
  {
   "cell_type": "code",
   "execution_count": 1,
   "metadata": {},
   "outputs": [],
   "source": [
    "import pandas as pd\n",
    "import numpy as np\n",
    "import pickle\n",
    "\n",
    "import requests\n",
    "from bs4 import BeautifulSoup\n",
    "\n",
    "from collections import defaultdict\n",
    "\n",
    "from matplotlib import pyplot as plt\n",
    "import seaborn as sns"
   ]
  },
  {
   "cell_type": "markdown",
   "metadata": {},
   "source": [
    "# Loading data"
   ]
  },
  {
   "cell_type": "code",
   "execution_count": 7,
   "metadata": {},
   "outputs": [
    {
     "name": "stderr",
     "output_type": "stream",
     "text": [
      "/anaconda3/envs/metis/lib/python3.6/site-packages/IPython/core/interactiveshell.py:3057: DtypeWarning: Columns (43,61,62) have mixed types. Specify dtype option on import or set low_memory=False.\n",
      "  interactivity=interactivity, compiler=compiler, result=result)\n"
     ]
    }
   ],
   "source": [
    "df_listings = pd.read_csv(\"/Users/xupingwang/Desktop/project_5/airbnb/listings.csv\")\n",
    "# df_listings_2 = pd.read_csv(\"/Users/xupingwang/Desktop/project_5/airbnb/listings-2.csv\")\n",
    "df_stations = pd.read_csv(\"/Users/xupingwang/Desktop/project_5/airbnb/CTA_-_System_Information_-_List_of__L__Stops.csv\")"
   ]
  },
  {
   "cell_type": "markdown",
   "metadata": {},
   "source": [
    "## Webscrape median income by ZIP code"
   ]
  },
  {
   "cell_type": "code",
   "execution_count": 70,
   "metadata": {},
   "outputs": [
    {
     "data": {
      "text/html": [
       "<div>\n",
       "<style scoped>\n",
       "    .dataframe tbody tr th:only-of-type {\n",
       "        vertical-align: middle;\n",
       "    }\n",
       "\n",
       "    .dataframe tbody tr th {\n",
       "        vertical-align: top;\n",
       "    }\n",
       "\n",
       "    .dataframe thead th {\n",
       "        text-align: right;\n",
       "    }\n",
       "</style>\n",
       "<table border=\"1\" class=\"dataframe\">\n",
       "  <thead>\n",
       "    <tr style=\"text-align: right;\">\n",
       "      <th></th>\n",
       "      <th>#</th>\n",
       "      <th>zip code</th>\n",
       "      <th>location</th>\n",
       "      <th>city</th>\n",
       "      <th>population</th>\n",
       "      <th>avg. income/h/hold</th>\n",
       "      <th>national rank</th>\n",
       "    </tr>\n",
       "  </thead>\n",
       "  <tbody>\n",
       "    <tr>\n",
       "      <th>26</th>\n",
       "      <td>27.</td>\n",
       "      <td>60639</td>\n",
       "      <td>41.920639, -87.755793</td>\n",
       "      <td>Chicago, Illinois</td>\n",
       "      <td>92,951</td>\n",
       "      <td>$40,165.00</td>\n",
       "      <td>#11,993</td>\n",
       "    </tr>\n",
       "    <tr>\n",
       "      <th>10</th>\n",
       "      <td>11.</td>\n",
       "      <td>60661</td>\n",
       "      <td>41.882458, -87.643946</td>\n",
       "      <td>Chicago, Illinois</td>\n",
       "      <td>4,382</td>\n",
       "      <td>$54,698.00</td>\n",
       "      <td>#4,207</td>\n",
       "    </tr>\n",
       "    <tr>\n",
       "      <th>6</th>\n",
       "      <td>7.</td>\n",
       "      <td>60646</td>\n",
       "      <td>41.992931, -87.760278</td>\n",
       "      <td>Chicago, Illinois</td>\n",
       "      <td>27,016</td>\n",
       "      <td>$58,232.00</td>\n",
       "      <td>#3,331</td>\n",
       "    </tr>\n",
       "    <tr>\n",
       "      <th>0</th>\n",
       "      <td>1.</td>\n",
       "      <td>60606</td>\n",
       "      <td>41.881988, -87.637329</td>\n",
       "      <td>Chicago, Illinois</td>\n",
       "      <td>1,682</td>\n",
       "      <td>$100,377.00</td>\n",
       "      <td>#259</td>\n",
       "    </tr>\n",
       "    <tr>\n",
       "      <th>8</th>\n",
       "      <td>9.</td>\n",
       "      <td>60657</td>\n",
       "      <td>41.938964, -87.656811</td>\n",
       "      <td>Chicago, Illinois</td>\n",
       "      <td>66,789</td>\n",
       "      <td>$55,647.00</td>\n",
       "      <td>#3,962</td>\n",
       "    </tr>\n",
       "  </tbody>\n",
       "</table>\n",
       "</div>"
      ],
      "text/plain": [
       "      # zip code               location               city population  \\\n",
       "26  27.    60639  41.920639, -87.755793  Chicago, Illinois     92,951   \n",
       "10  11.    60661  41.882458, -87.643946  Chicago, Illinois      4,382   \n",
       "6    7.    60646  41.992931, -87.760278  Chicago, Illinois     27,016   \n",
       "0    1.    60606  41.881988, -87.637329  Chicago, Illinois      1,682   \n",
       "8    9.    60657  41.938964, -87.656811  Chicago, Illinois     66,789   \n",
       "\n",
       "   avg. income/h/hold national rank  \n",
       "26         $40,165.00       #11,993  \n",
       "10         $54,698.00        #4,207  \n",
       "6          $58,232.00        #3,331  \n",
       "0         $100,377.00          #259  \n",
       "8          $55,647.00        #3,962  "
      ]
     },
     "execution_count": 70,
     "metadata": {},
     "output_type": "execute_result"
    }
   ],
   "source": [
    "# download with census api if data can be found\n",
    "\n",
    "website_url = requests.get('http://zipatlas.com/us/il/chicago/zip-code-comparison/median-household-income.htm').text\n",
    "soup = BeautifulSoup(website_url,'lxml')\n",
    "# print(soup.prettify())\n",
    "\n",
    "My_table = soup.find('table')\n",
    "header = My_table.findAll('td', {'class': \"report_header\"})\n",
    "content = My_table.findAll('td', {'class': \"report_data\"})\n",
    "\n",
    "col= [x.text.lower() for x in header]\n",
    "data = [x.text for x in content]\n",
    "\n",
    "df_income = pd.DataFrame(np.array(data).reshape(55,7), columns = col)\n",
    "df_income.sample(5)"
   ]
  },
  {
   "cell_type": "code",
   "execution_count": 71,
   "metadata": {},
   "outputs": [],
   "source": [
    "# with open(\"zipcode_income.pkl\", \"wb\") as f:\n",
    "#     pickle.dump(df_income, f)\n",
    "\n",
    "with open(\"zipcode_income.pkl\", \"rb\") as f:\n",
    "    df_income = pickle.load(f)"
   ]
  },
  {
   "cell_type": "markdown",
   "metadata": {},
   "source": [
    "# Data cleaning"
   ]
  },
  {
   "cell_type": "code",
   "execution_count": 9,
   "metadata": {},
   "outputs": [],
   "source": [
    "# clean income dataframe\n",
    "df_income.columns =['#', 'zipcode', 'location', 'city', 'population', 'm_income', 'nationalrank']\n",
    "df_income.loc[df_income.zipcode.isin([\"60604\",\"60602\",\"60654\"]), \"m_income\"] = \"$41,000.00\"\n",
    "df_income.m_income = df_income.m_income.str.replace('[^.0-9]+', '').astype(\"float\").astype(\"int\")\n",
    "zipcode_list = list(df_income[\"zipcode\"].unique())\n",
    "\n",
    "# clean listing by zipcode\n",
    "df_listings.zipcode = df_listings.zipcode.transform(lambda x: str(x).split(\"-\")[0])\n",
    "df_listings = df_listings[ df_listings.zipcode.isin(zipcode_list) ]\n",
    "df_listings = pd.merge(df_listings, df_income, on='zipcode', how='left').drop(columns=[\"location\"])"
   ]
  },
  {
   "cell_type": "code",
   "execution_count": null,
   "metadata": {},
   "outputs": [],
   "source": [
    "# clean null beds and null bathrooms, change price to float\n",
    "\n",
    "df_listings.loc[df_listings.index == 1295 , \"beds\"] = 1\n",
    "df_listings.loc[ df_listings.index.isin( [56, 181, 205, 1295] ), \"bathrooms\" ] = 1\n",
    "\n",
    "df_listings.loc[:,\"price\"] = df_listings.price.str.replace('[^.0-9]+', '').astype(\"float\")"
   ]
  },
  {
   "cell_type": "code",
   "execution_count": 61,
   "metadata": {},
   "outputs": [],
   "source": [
    "# # null value check\n",
    "\n",
    "# check_col = [\"price\",\n",
    "# \"room_type\",\n",
    "# \"bedrooms\",\n",
    "# \"beds\",\n",
    "# \"bathrooms\",\n",
    "# \"m_income\",\n",
    "# \"latitude\",\n",
    "# \"longitude\",\n",
    "# # \"neighbourhood\",\n",
    "# \"availability_60\",\n",
    "# # \"review_scores_rating\",\n",
    "# \"id\"]\n",
    "\n",
    "# for i in check_col:\n",
    "#     print(i, df_listings[df_listings[i].isnull()].index)"
   ]
  },
  {
   "cell_type": "markdown",
   "metadata": {},
   "source": [
    "# Feature engineering"
   ]
  },
  {
   "cell_type": "markdown",
   "metadata": {},
   "source": [
    "## Distance to city center"
   ]
  },
  {
   "cell_type": "code",
   "execution_count": 67,
   "metadata": {},
   "outputs": [],
   "source": [
    "# set the city center at river north, cross road of Ohio st. and Magnificent Mile (41.892534, -87.624235), see link below\n",
    "# https://www.zumper.com/blog/2015/03/chicago-rent-prices-by-neighborhood-february-2015/\n",
    "\n",
    "city_center = [41.892534, -87.624235]\n",
    "\n",
    "df_listings[\"latitude_displacement\"] = df_listings.latitude.transform(lambda x: (x - city_center[0])*69 )\n",
    "df_listings[\"longitude_displacement\"] = df_listings.longitude.transform(lambda x: (x - city_center[1])*51.38)\n",
    "df_listings[\"distance_downtown\"] = df_listings.apply( \\\n",
    "    lambda x: np.sqrt(x.latitude_displacement**2 + x.longitude_displacement**2),axis=1)"
   ]
  },
  {
   "cell_type": "markdown",
   "metadata": {},
   "source": [
    "## Distance to L station"
   ]
  },
  {
   "cell_type": "code",
   "execution_count": 120,
   "metadata": {},
   "outputs": [],
   "source": [
    "# cleaning column names\n",
    "df_stations.columns = df_stations.columns.str.replace(\" \", \"_\").str.lower()\n",
    "\n",
    "df_stations[\"latitude\"] =  df_stations.location.transform(\\\n",
    "                            lambda x: float(x.replace(\"(\", \"\").replace(\")\", \"\").split(\",\")[0]))\n",
    "df_stations[\"longitude\"] =  df_stations.location.transform(\\\n",
    "                            lambda x: float(x.replace(\"(\", \"\").replace(\")\", \"\").split(\",\")[1]))\n",
    "df_stations[\"latitude_displacement\"] = df_stations.latitude.transform(lambda x: (x - city_center[0])*69 )\n",
    "df_stations[\"longitude_displacement\"] = df_stations.longitude.transform(lambda x: (x - city_center[1])*51.38)\n",
    "\n",
    "df_stations[\"distance_downtown\"] = df_stations.apply( \\\n",
    "    lambda x: np.sqrt(x.latitude_displacement**2 + x.longitude_displacement**2),axis=1)"
   ]
  },
  {
   "cell_type": "code",
   "execution_count": 185,
   "metadata": {
    "scrolled": true
   },
   "outputs": [],
   "source": [
    "station_distance = []\n",
    "for i in df_listings[[\"latitude_displacement\", \"longitude_displacement\"]].values:\n",
    "    min_distance = np.inf\n",
    "    for j in df_stations[[\"latitude_displacement\", \"longitude_displacement\"]].values:\n",
    "#         distance = np.sqrt(( i[0]-j[0])**2 + (i[1]-j[1])**2 )\n",
    "        distance = abs(i[0]-j[0]) + abs(i[1]-j[1])\n",
    "        if distance < min_distance:\n",
    "            min_distance = distance\n",
    "    station_distance.append(min_distance)\n",
    "\n",
    "df_listings[\"station_distance\"] = station_distance"
   ]
  },
  {
   "cell_type": "code",
   "execution_count": 192,
   "metadata": {},
   "outputs": [
    {
     "data": {
      "image/png": "[encoded data removed]",
      "text/plain": [
       "<Figure size 432x288 with 1 Axes>"
      ]
     },
     "metadata": {
      "needs_background": "light"
     },
     "output_type": "display_data"
    }
   ],
   "source": [
    "# check histogram of distances\n",
    "g = plt.hist(station_distance, bins=100)"
   ]
  },
  {
   "cell_type": "markdown",
   "metadata": {},
   "source": [
    "## User mean sentiment"
   ]
  },
  {
   "cell_type": "code",
   "execution_count": 205,
   "metadata": {},
   "outputs": [],
   "source": [
    "with open(\"mean_user_sentiment.pkl\", \"rb\") as f:\n",
    "    df_mean_user_sentiment = pickle.load(f)"
   ]
  },
  {
   "cell_type": "code",
   "execution_count": 216,
   "metadata": {
    "scrolled": false
   },
   "outputs": [],
   "source": [
    "df_listings = pd.merge(df_listings, df_mean_user_sentiment, left_on=\"id\", right_on=\"listing_id\", how='left')\n",
    "\n",
    "print(\"mean sentiment score of listing is :\", df_listings[~df_listings.sentiment.isnull()].sentiment.mean() )"
   ]
  },
  {
   "cell_type": "markdown",
   "metadata": {},
   "source": [
    "# Output listing dataframe"
   ]
  },
  {
   "cell_type": "code",
   "execution_count": 223,
   "metadata": {},
   "outputs": [],
   "source": [
    "# with open(\"listings.pkl\", \"wb\") as f:\n",
    "#     pickle.dump(df_listings, f)"
   ]
  }
 ],
 "metadata": {
  "kernelspec": {
   "display_name": "Python [conda env:metis] *",
   "language": "python",
   "name": "conda-env-metis-py"
  },
  "language_info": {
   "codemirror_mode": {
    "name": "ipython",
    "version": 3
   },
   "file_extension": ".py",
   "mimetype": "text/x-python",
   "name": "python",
   "nbconvert_exporter": "python",
   "pygments_lexer": "ipython3",
   "version": "3.6.8"
  },
  "toc": {
   "base_numbering": 1,
   "nav_menu": {},
   "number_sections": true,
   "sideBar": true,
   "skip_h1_title": false,
   "title_cell": "Table of Contents",
   "title_sidebar": "Contents",
   "toc_cell": false,
   "toc_position": {},
   "toc_section_display": true,
   "toc_window_display": false
  },
  "varInspector": {
   "cols": {
    "lenName": 16,
    "lenType": 16,
    "lenVar": 40
   },
   "kernels_config": {
    "python": {
     "delete_cmd_postfix": "",
     "delete_cmd_prefix": "del ",
     "library": "var_list.py",
     "varRefreshCmd": "print(var_dic_list())"
    },
    "r": {
     "delete_cmd_postfix": ") ",
     "delete_cmd_prefix": "rm(",
     "library": "var_list.r",
     "varRefreshCmd": "cat(var_dic_list()) "
    }
   },
   "position": {
    "height": "144px",
    "left": "1062px",
    "right": "20px",
    "top": "83px",
    "width": "350px"
   },
   "types_to_exclude": [
    "module",
    "function",
    "builtin_function_or_method",
    "instance",
    "_Feature"
   ],
   "window_display": false
  }
 },
 "nbformat": 4,
 "nbformat_minor": 2
}
