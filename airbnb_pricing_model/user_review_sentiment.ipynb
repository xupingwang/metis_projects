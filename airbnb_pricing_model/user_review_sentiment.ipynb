{
 "cells": [
  {
   "cell_type": "code",
   "execution_count": 1,
   "metadata": {},
   "outputs": [],
   "source": [
    "import pandas as pd\n",
    "import numpy as np\n",
    "import pickle\n",
    "\n",
    "from collections import defaultdict\n",
    "\n",
    "from matplotlib import pyplot as plt\n",
    "import seaborn as sns\n",
    "\n",
    "from sklearn.preprocessing import PolynomialFeatures\n",
    "from sklearn.cluster import KMeans\n",
    "from sklearn.decomposition import TruncatedSVD\n",
    "from sklearn.decomposition import NMF\n",
    "from sklearn.feature_extraction.text import CountVectorizer\n",
    "from sklearn.feature_extraction.text import TfidfVectorizer\n",
    "from sklearn.metrics.pairwise import cosine_similarity\n",
    "\n",
    "import re\n",
    "import enchant\n",
    "from textblob import TextBlob\n",
    "import langdetect\n",
    "\n",
    "import nltk\n",
    "from nltk.stem import WordNetLemmatizer\n",
    "# nltk.download('wordnet')"
   ]
  },
  {
   "cell_type": "markdown",
   "metadata": {},
   "source": [
    "# Loading review data"
   ]
  },
  {
   "cell_type": "code",
   "execution_count": 3,
   "metadata": {},
   "outputs": [
    {
     "name": "stdout",
     "output_type": "stream",
     "text": [
      "total reviewed listings: 7383\n",
      "average comments per listing: 44.84694568603549\n"
     ]
    },
    {
     "data": {
      "text/html": [
       "<div>\n",
       "<style scoped>\n",
       "    .dataframe tbody tr th:only-of-type {\n",
       "        vertical-align: middle;\n",
       "    }\n",
       "\n",
       "    .dataframe tbody tr th {\n",
       "        vertical-align: top;\n",
       "    }\n",
       "\n",
       "    .dataframe thead th {\n",
       "        text-align: right;\n",
       "    }\n",
       "</style>\n",
       "<table border=\"1\" class=\"dataframe\">\n",
       "  <thead>\n",
       "    <tr style=\"text-align: right;\">\n",
       "      <th></th>\n",
       "      <th>listing_id</th>\n",
       "      <th>id</th>\n",
       "      <th>date</th>\n",
       "      <th>reviewer_id</th>\n",
       "      <th>reviewer_name</th>\n",
       "      <th>comments</th>\n",
       "    </tr>\n",
       "  </thead>\n",
       "  <tbody>\n",
       "    <tr>\n",
       "      <th>84163</th>\n",
       "      <td>8053625</td>\n",
       "      <td>202503865</td>\n",
       "      <td>2017-10-11</td>\n",
       "      <td>97438320</td>\n",
       "      <td>Pam</td>\n",
       "      <td>Kandy was great and very helpful with some con...</td>\n",
       "    </tr>\n",
       "    <tr>\n",
       "      <th>92579</th>\n",
       "      <td>8743145</td>\n",
       "      <td>187256747</td>\n",
       "      <td>2017-08-26</td>\n",
       "      <td>43112601</td>\n",
       "      <td>Maria</td>\n",
       "      <td>The host, Josh, was super accommodating and re...</td>\n",
       "    </tr>\n",
       "    <tr>\n",
       "      <th>46953</th>\n",
       "      <td>4067870</td>\n",
       "      <td>148429326</td>\n",
       "      <td>2017-04-30</td>\n",
       "      <td>14544593</td>\n",
       "      <td>Carey</td>\n",
       "      <td>Casa Corazon tops the charts in more ways than...</td>\n",
       "    </tr>\n",
       "    <tr>\n",
       "      <th>228632</th>\n",
       "      <td>20796390</td>\n",
       "      <td>199265475</td>\n",
       "      <td>2017-10-01</td>\n",
       "      <td>63951550</td>\n",
       "      <td>Sara</td>\n",
       "      <td>Wow, the place was everything I hoped for and ...</td>\n",
       "    </tr>\n",
       "    <tr>\n",
       "      <th>69026</th>\n",
       "      <td>6732036</td>\n",
       "      <td>470767972</td>\n",
       "      <td>2019-06-16</td>\n",
       "      <td>178848520</td>\n",
       "      <td>Jessica</td>\n",
       "      <td>Amazing art and decor. Beautiful rooftop was a...</td>\n",
       "    </tr>\n",
       "  </tbody>\n",
       "</table>\n",
       "</div>"
      ],
      "text/plain": [
       "        listing_id         id        date  reviewer_id reviewer_name  \\\n",
       "84163      8053625  202503865  2017-10-11     97438320           Pam   \n",
       "92579      8743145  187256747  2017-08-26     43112601         Maria   \n",
       "46953      4067870  148429326  2017-04-30     14544593         Carey   \n",
       "228632    20796390  199265475  2017-10-01     63951550          Sara   \n",
       "69026      6732036  470767972  2019-06-16    178848520       Jessica   \n",
       "\n",
       "                                                 comments  \n",
       "84163   Kandy was great and very helpful with some con...  \n",
       "92579   The host, Josh, was super accommodating and re...  \n",
       "46953   Casa Corazon tops the charts in more ways than...  \n",
       "228632  Wow, the place was everything I hoped for and ...  \n",
       "69026   Amazing art and decor. Beautiful rooftop was a...  "
      ]
     },
     "execution_count": 3,
     "metadata": {},
     "output_type": "execute_result"
    }
   ],
   "source": [
    "df_reviews = pd.read_csv(\"/Users/xupingwang/Desktop/project_5/airbnb/reviews.csv\")\n",
    "# df_reviews_2 = pd.read_csv(\"/Users/xupingwang/Desktop/project_5/airbnb/reviews-2.csv\")\n",
    "\n",
    "print(\"total reviewed listings: {}\\naverage comments per listing: {}\".format( df_reviews.listing_id.nunique(), df_reviews.id.nunique() / df_reviews.listing_id.nunique() ) )\n",
    "df_reviews.sample(5, random_state=42)"
   ]
  },
  {
   "cell_type": "markdown",
   "metadata": {},
   "source": [
    "# Minor text cleaning"
   ]
  },
  {
   "cell_type": "code",
   "execution_count": 4,
   "metadata": {},
   "outputs": [],
   "source": [
    "corpus = list(df_reviews.comments)\n",
    "review_id = list(df_reviews.id)\n",
    "\n",
    "# clean \\n, \\r in the text\n",
    "corpus = [str(x).replace(\"\\n\", \" \").replace(\"\\r\", \" \") for x in corpus]"
   ]
  },
  {
   "cell_type": "markdown",
   "metadata": {},
   "source": [
    "# Language detection and sentiment analysis"
   ]
  },
  {
   "cell_type": "code",
   "execution_count": 5,
   "metadata": {},
   "outputs": [],
   "source": [
    "# # sentiment_score list item in the format: [review_id, review content, language, sentiment, objectivity]\n",
    "# # takes a long time to run the block, do not re-run\n",
    "\n",
    "# sentiment_score = []\n",
    "\n",
    "# for i, j in enumerate(corpus):\n",
    "#     try:\n",
    "#         lan = str(langdetect.detect_langs(j))[1:3]\n",
    "#     except:\n",
    "#         lan = \"NA\"\n",
    "#     sentiment_score.append( [review_id[i], j, lan] + list(TextBlob(j).sentiment) )\n",
    "#     if i % 2000 == 0:\n",
    "#         print(\"+\", end=\"\")"
   ]
  },
  {
   "cell_type": "markdown",
   "metadata": {},
   "source": [
    "## pickle and unpickle"
   ]
  },
  {
   "cell_type": "code",
   "execution_count": 6,
   "metadata": {},
   "outputs": [],
   "source": [
    "# with open(\"user_sentiment.pkl\", \"wb\") as f:\n",
    "#     pickle.dump(sentiment_score, f)\n",
    "\n",
    "with open(\"user_sentiment.pkl\", \"rb\") as f:\n",
    "    sentiment_score = pickle.load(f)"
   ]
  },
  {
   "cell_type": "markdown",
   "metadata": {},
   "source": [
    "# Non-English post sentiment cleanup"
   ]
  },
  {
   "cell_type": "code",
   "execution_count": 7,
   "metadata": {},
   "outputs": [],
   "source": [
    "count_ = 0\n",
    "for i in sentiment_score:\n",
    "    if i[2] != \"en\":\n",
    "        i[3] = 0.0"
   ]
  },
  {
   "cell_type": "code",
   "execution_count": 8,
   "metadata": {},
   "outputs": [],
   "source": [
    "# # language count in the review, make sure the majority is in english\n",
    "\n",
    "# from collections import defaultdict\n",
    "# country = defaultdict(int)\n",
    "# for i in sentiment_score:\n",
    "#     country[i[2]] += 1  \n",
    "# country"
   ]
  },
  {
   "cell_type": "code",
   "execution_count": 9,
   "metadata": {},
   "outputs": [
    {
     "data": {
      "image/png": "[encoded data removed]",
      "text/plain": [
       "<Figure size 432x288 with 1 Axes>"
      ]
     },
     "metadata": {
      "needs_background": "light"
     },
     "output_type": "display_data"
    }
   ],
   "source": [
    "g = plt.hist([x[3] for x in sentiment_score] , bins=39)\n",
    "\n",
    "# Very little negative reviews, low rating houses maybe hard to survive in the market. \n",
    "# A lot of zeros due to in foreign languages, should consider google sentiment api for better results if time allows."
   ]
  },
  {
   "cell_type": "code",
   "execution_count": 10,
   "metadata": {},
   "outputs": [],
   "source": [
    "# # checking negative reviews\n",
    "\n",
    "# for i in sorted(sentiment_score, key=(lambda x : x[3])):\n",
    "#     if i[3]<0:\n",
    "#         print(i)"
   ]
  },
  {
   "cell_type": "markdown",
   "metadata": {},
   "source": [
    "# Listing mean sentiment"
   ]
  },
  {
   "cell_type": "code",
   "execution_count": 11,
   "metadata": {},
   "outputs": [],
   "source": [
    "# # combine into one line below to save memory\n",
    "\n",
    "# df_sentiment = pd.DataFrame(sentiment_score, columns = [\"id\", \"review\", \"language\", \"sentiment\", \"objectivity\"])\n",
    "# df_reviews = df_reviews.merge(df_sentiment, left_on='id', right_on='id')\n",
    "# df_user_sentiment = df_reviews[[\"listing_id\", \"sentiment\" ]].groupby(\"listing_id\", as_index=False).sentiment.mean()\n",
    "\n",
    "df_mean_user_sentiment = df_reviews.merge(\\\n",
    "pd.DataFrame(sentiment_score, columns = [\"id\", \"review\", \"language\", \"sentiment\", \"objectivity\"])\\\n",
    ", left_on='id', right_on='id')\\\n",
    "[[\"listing_id\", \"sentiment\" ]].groupby(\"listing_id\", as_index=False).sentiment.mean()"
   ]
  },
  {
   "cell_type": "markdown",
   "metadata": {},
   "source": [
    "## Output mean_user_sentiment"
   ]
  },
  {
   "cell_type": "code",
   "execution_count": 12,
   "metadata": {},
   "outputs": [],
   "source": [
    "# with open(\"mean_user_sentiment.pkl\", \"wb\") as f:\n",
    "#     pickle.dump(df_mean_user_sentiment, f)\n",
    "\n",
    "# with open(\"mean_user_sentiment.pkl\", \"rb\") as f:\n",
    "#     df_mean_user_sentiment = pickle.load(f)"
   ]
  },
  {
   "cell_type": "code",
   "execution_count": 1,
   "metadata": {
    "scrolled": true
   },
   "outputs": [],
   "source": [
    "# sorted(sentiment_score, key=(lambda x: x[3]))"
   ]
  }
 ],
 "metadata": {
  "kernelspec": {
   "display_name": "Python [conda env:metis] *",
   "language": "python",
   "name": "conda-env-metis-py"
  },
  "language_info": {
   "codemirror_mode": {
    "name": "ipython",
    "version": 3
   },
   "file_extension": ".py",
   "mimetype": "text/x-python",
   "name": "python",
   "nbconvert_exporter": "python",
   "pygments_lexer": "ipython3",
   "version": "3.6.8"
  },
  "toc": {
   "base_numbering": 1,
   "nav_menu": {},
   "number_sections": true,
   "sideBar": true,
   "skip_h1_title": false,
   "title_cell": "Table of Contents",
   "title_sidebar": "Contents",
   "toc_cell": false,
   "toc_position": {},
   "toc_section_display": true,
   "toc_window_display": true
  },
  "varInspector": {
   "cols": {
    "lenName": 16,
    "lenType": 16,
    "lenVar": 40
   },
   "kernels_config": {
    "python": {
     "delete_cmd_postfix": "",
     "delete_cmd_prefix": "del ",
     "library": "var_list.py",
     "varRefreshCmd": "print(var_dic_list())"
    },
    "r": {
     "delete_cmd_postfix": ") ",
     "delete_cmd_prefix": "rm(",
     "library": "var_list.r",
     "varRefreshCmd": "cat(var_dic_list()) "
    }
   },
   "types_to_exclude": [
    "module",
    "function",
    "builtin_function_or_method",
    "instance",
    "_Feature"
   ],
   "window_display": false
  }
 },
 "nbformat": 4,
 "nbformat_minor": 2
}
