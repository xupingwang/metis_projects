{
 "cells": [
  {
   "cell_type": "code",
   "execution_count": 1,
   "metadata": {},
   "outputs": [],
   "source": [
    "import bq_helper\n",
    "from bq_helper import BigQueryHelper\n",
    "import pickle\n",
    "\n",
    "import pandas as pd\n",
    "import numpy as np\n",
    "import datetime\n",
    "\n",
    "import os\n",
    "os.environ[\"GOOGLE_APPLICATION_CREDENTIALS\"]=\"/Users/xupingwang/key/google-bq-key.json\"\n",
    "\n",
    "pd.options.display.max_columns = 80"
   ]
  },
  {
   "cell_type": "markdown",
   "metadata": {},
   "source": [
    "# Google BigQuery API set up, download 2016-2017 data"
   ]
  },
  {
   "cell_type": "code",
   "execution_count": 2,
   "metadata": {},
   "outputs": [],
   "source": [
    "# https://www.kaggle.com/sohier/introduction-to-the-bq-helper-package\n",
    "google_analytics = bq_helper.BigQueryHelper(\\\n",
    "                active_project=\"bigquery-public-data\",\\\n",
    "                dataset_name=\"data:google_analytics_sample\")"
   ]
  },
  {
   "cell_type": "code",
   "execution_count": 3,
   "metadata": {},
   "outputs": [],
   "source": [
    "query = \"\"\"\n",
    "SELECT\n",
    "visitNumber,\n",
    "visitId,\n",
    "visitStartTime,\n",
    "date,\n",
    "fullVisitorId,\n",
    "channelGrouping,\n",
    "totals,\n",
    "trafficSource,\n",
    "device,\n",
    "geoNetwork\n",
    "FROM `bigquery-public-data.google_analytics_sample.ga_sessions_*`\n",
    "WHERE\n",
    "_TABLE_SUFFIX BETWEEN '20160801' AND '20170801'\n",
    ";\n",
    "\"\"\"\n",
    "df = google_analytics.query_to_pandas_safe(query)"
   ]
  },
  {
   "cell_type": "code",
   "execution_count": 56,
   "metadata": {},
   "outputs": [],
   "source": [
    "# with open('googleyear.pkl', 'wb') as f:\n",
    "#     pickle.dump(df, f)\n",
    "\n",
    "with open('googleyear.pkl', 'rb') as f:\n",
    "    df = pickle.load(f)"
   ]
  },
  {
   "cell_type": "markdown",
   "metadata": {},
   "source": [
    "## User behavioral data(hits column) download"
   ]
  },
  {
   "cell_type": "code",
   "execution_count": null,
   "metadata": {},
   "outputs": [],
   "source": [
    "# note that \"hit\" column is Json nested with list, \n",
    "# we will download the action_type field seperately  \n",
    "query2 = \"\"\"SELECT\n",
    "fullVisitorId,\n",
    "visitStartTime,\n",
    "hits.eCommerceAction.action_type\n",
    "FROM `bigquery-public-data.google_analytics_sample.ga_sessions_*`, UNNEST(hits) as h\n",
    "WHERE\n",
    "_TABLE_SUFFIX BETWEEN '20160801' AND '20160801'\n",
    ";\n",
    "\"\"\"\n",
    "df_hits = google_analytics.query_to_pandas_safe(query2)"
   ]
  },
  {
   "cell_type": "code",
   "execution_count": 54,
   "metadata": {},
   "outputs": [],
   "source": [
    "# with open('googlehits.pkl', 'wb') as f:\n",
    "#     pickle.dump(df_hits, f)\n",
    "\n",
    "with open('googlehits.pkl', 'rb') as f:\n",
    "    df_hits = pickle.load(f)"
   ]
  },
  {
   "cell_type": "markdown",
   "metadata": {},
   "source": [
    "# Merge dataframes"
   ]
  },
  {
   "cell_type": "code",
   "execution_count": 55,
   "metadata": {},
   "outputs": [],
   "source": [
    "# combine visitor_ID and visitor_start_time to produce unique id for each visit\n",
    "df_hits[\"ID\"] = df_hits[\"fullVisitorId\"].astype(str) + \\\n",
    "df_hits[\"visitStartTime\"].astype(str)\n",
    "\n",
    "# action_type explained:\n",
    "# Click through of product lists = 1, \n",
    "# Product detail views = 2, \n",
    "# Add product(s) to cart = 3, \n",
    "# Remove product(s) from cart = 4, \n",
    "# Check out = 5, \n",
    "# Completed purchase = 6, \n",
    "# Refund of purchase = 7, \n",
    "# Checkout options = 8, \n",
    "# Unknown = 0.\n",
    "# seems like Checkout option\n",
    "\n",
    "# for each visit, groupby id and find maximum action type(how close is a visitor to purchase an item)\n",
    "df_hits = df_hits[[\"ID\", \"action_type\"]].groupby(\"ID\")[\"action_type\"].apply(list)\n",
    "df_hits = df_hits.to_frame()\n",
    "df_hits[\"ID\"] = df_hits.index\n",
    "\n",
    "# check for the visitors that clicks into the checkout page, 1 for True and 0 for False\n",
    "df_hits[\"action_type\"] = df_hits.action_type.apply(lambda x: 1 if \"5\" in x else 0)"
   ]
  },
  {
   "cell_type": "code",
   "execution_count": 60,
   "metadata": {},
   "outputs": [],
   "source": [
    "df[\"ID\"] = df[\"fullVisitorId\"].astype(str) + df[\"visitStartTime\"].astype(str)\n",
    "df_hits = df_hits.reset_index(drop=True)\n",
    "df = pd.merge(df, df_hits, left_on='ID', right_on=\"ID\")"
   ]
  },
  {
   "cell_type": "code",
   "execution_count": 64,
   "metadata": {},
   "outputs": [],
   "source": [
    "# with open('google_full.pkl', 'wb') as f:\n",
    "#     pickle.dump(df, f)\n",
    "\n",
    "with open('google_full.pkl', 'rb') as f:\n",
    "    df = pickle.load(f)"
   ]
  }
 ],
 "metadata": {
  "kernelspec": {
   "display_name": "Python [conda env:metis] *",
   "language": "python",
   "name": "conda-env-metis-py"
  },
  "language_info": {
   "codemirror_mode": {
    "name": "ipython",
    "version": 3
   },
   "file_extension": ".py",
   "mimetype": "text/x-python",
   "name": "python",
   "nbconvert_exporter": "python",
   "pygments_lexer": "ipython3",
   "version": "3.6.8"
  },
  "toc": {
   "base_numbering": 1,
   "nav_menu": {},
   "number_sections": true,
   "sideBar": true,
   "skip_h1_title": false,
   "title_cell": "Table of Contents",
   "title_sidebar": "Contents",
   "toc_cell": false,
   "toc_position": {},
   "toc_section_display": true,
   "toc_window_display": false
  },
  "varInspector": {
   "cols": {
    "lenName": 16,
    "lenType": 16,
    "lenVar": 40
   },
   "kernels_config": {
    "python": {
     "delete_cmd_postfix": "",
     "delete_cmd_prefix": "del ",
     "library": "var_list.py",
     "varRefreshCmd": "print(var_dic_list())"
    },
    "r": {
     "delete_cmd_postfix": ") ",
     "delete_cmd_prefix": "rm(",
     "library": "var_list.r",
     "varRefreshCmd": "cat(var_dic_list()) "
    }
   },
   "types_to_exclude": [
    "module",
    "function",
    "builtin_function_or_method",
    "instance",
    "_Feature"
   ],
   "window_display": false
  }
 },
 "nbformat": 4,
 "nbformat_minor": 2
}
